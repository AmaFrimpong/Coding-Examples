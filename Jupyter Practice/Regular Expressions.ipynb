{
 "cells": [
  {
   "cell_type": "code",
   "execution_count": 1,
   "metadata": {
    "collapsed": true
   },
   "outputs": [],
   "source": [
    "# \\d matches decimal digits in class [0-9]\n",
    "# \\D matches non-decimal digits in class [^0-9]"
   ]
  },
  {
   "cell_type": "code",
   "execution_count": 2,
   "metadata": {
    "collapsed": true
   },
   "outputs": [],
   "source": [
    "#Remember that with RegEx you need to set out the rules exact. Below is the RegEx for email addresses"
   ]
  },
  {
   "cell_type": "code",
   "execution_count": null,
   "metadata": {
    "collapsed": true
   },
   "outputs": [],
   "source": [
    "^[A-Z0-9._%+-]+@[A-Z0-9.-]+\\.[A-Z]{2,}$"
   ]
  },
  {
   "cell_type": "code",
   "execution_count": 3,
   "metadata": {
    "collapsed": true
   },
   "outputs": [],
   "source": [
    "# ^ means the beginning of the line, unless its in [] in which case it means 'not'. [^0-9]\n",
    "# if there is text before the email address\n",
    "# $ means the end of the line\n",
    "# i.e. the beginning and end of the rules\n",
    "# The + sign after the [] means what is in the brackets can be repeated as many times as it wants\n",
    "# @ is on its own and is an \n",
    "# \\ means it takes away the 'special meaning' in this case the . because it has an alternate meaning in RegEx\n",
    "# the 2 means that after the . you can write .co.uk (2) OR .com (1) OR .net (1)"
   ]
  },
  {
   "cell_type": "code",
   "execution_count": 4,
   "metadata": {
    "collapsed": true
   },
   "outputs": [],
   "source": [
    "import re"
   ]
  },
  {
   "cell_type": "markdown",
   "metadata": {},
   "source": [
    "# Regex Practice"
   ]
  },
  {
   "cell_type": "code",
   "execution_count": 5,
   "metadata": {
    "collapsed": true
   },
   "outputs": [],
   "source": [
    "contact = 'The email address is a.frimpong@hotmail.co.uk'"
   ]
  },
  {
   "cell_type": "code",
   "execution_count": 6,
   "metadata": {
    "collapsed": true
   },
   "outputs": [],
   "source": [
    "# In re there are re.match (used from the beginning of a string) and re.search (used anywhere in a string)"
   ]
  },
  {
   "cell_type": "code",
   "execution_count": 12,
   "metadata": {
    "collapsed": true
   },
   "outputs": [],
   "source": [
    "# If you write 'r' it gets rid of the rules assigned to certain characters\n",
    "rules = r'[a-z0-9._%+-]+@[a-z0-9.-]+\\.[a-zA-Z]{2,3}'"
   ]
  },
  {
   "cell_type": "code",
   "execution_count": 16,
   "metadata": {},
   "outputs": [
    {
     "name": "stdout",
     "output_type": "stream",
     "text": [
      "<_sre.SRE_Match object at 0x0000000005FD0440>\n"
     ]
    }
   ],
   "source": [
    "print(re.search(rules, contact))"
   ]
  },
  {
   "cell_type": "code",
   "execution_count": 14,
   "metadata": {},
   "outputs": [
    {
     "name": "stdout",
     "output_type": "stream",
     "text": [
      "valid\n"
     ]
    }
   ],
   "source": [
    "#search and match are boolean so it doesn't work unless you have an if statement\n",
    "if re.search(rules, contact):\n",
    "    print ('valid')\n",
    "else:\n",
    "    print ('invalid')"
   ]
  },
  {
   "cell_type": "code",
   "execution_count": 18,
   "metadata": {
    "collapsed": true
   },
   "outputs": [],
   "source": [
    "# . matches any characters\n",
    "# * preceeding any number of times\n",
    "# + preceeding one or more times\n",
    "# Remember the \\ means the . is literal. \n",
    "\n",
    "grammar_rules = r'^[A-Z]+[a-z]*\\.$'"
   ]
  },
  {
   "cell_type": "code",
   "execution_count": 19,
   "metadata": {
    "collapsed": true
   },
   "outputs": [],
   "source": [
    "sentence = 'Tina Turner Is The Best'"
   ]
  },
  {
   "cell_type": "code",
   "execution_count": 20,
   "metadata": {},
   "outputs": [
    {
     "name": "stdout",
     "output_type": "stream",
     "text": [
      "invalid\n"
     ]
    }
   ],
   "source": [
    "if re.match(grammar_rules, sentence):\n",
    "    print ('valid')\n",
    "else:\n",
    "    print ('invalid')"
   ]
  },
  {
   "cell_type": "code",
   "execution_count": null,
   "metadata": {
    "collapsed": true
   },
   "outputs": [],
   "source": []
  }
 ],
 "metadata": {
  "kernelspec": {
   "display_name": "Python 2",
   "language": "python",
   "name": "python2"
  },
  "language_info": {
   "codemirror_mode": {
    "name": "ipython",
    "version": 2
   },
   "file_extension": ".py",
   "mimetype": "text/x-python",
   "name": "python",
   "nbconvert_exporter": "python",
   "pygments_lexer": "ipython2",
   "version": "2.7.13"
  }
 },
 "nbformat": 4,
 "nbformat_minor": 2
}
