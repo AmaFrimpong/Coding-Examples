{
 "cells": [
  {
   "cell_type": "markdown",
   "metadata": {},
   "source": [
    "# Append"
   ]
  },
  {
   "cell_type": "code",
   "execution_count": 4,
   "metadata": {
    "collapsed": true
   },
   "outputs": [],
   "source": [
    "# ways to create lists\n",
    "# either l = [] OR(see below)\n",
    "#This is for when we don't know the values\n",
    "l = list()"
   ]
  },
  {
   "cell_type": "code",
   "execution_count": 6,
   "metadata": {
    "collapsed": true
   },
   "outputs": [],
   "source": [
    "l2 = []"
   ]
  },
  {
   "cell_type": "code",
   "execution_count": 7,
   "metadata": {
    "collapsed": true
   },
   "outputs": [],
   "source": [
    "l3 = ['A', 'B', 'C']"
   ]
  },
  {
   "cell_type": "code",
   "execution_count": 8,
   "metadata": {
    "collapsed": true
   },
   "outputs": [],
   "source": [
    "l.append('Z')\n",
    "l2.append('Z')\n",
    "l3.append('Z')"
   ]
  },
  {
   "cell_type": "code",
   "execution_count": 9,
   "metadata": {},
   "outputs": [
    {
     "data": {
      "text/plain": [
       "['Z']"
      ]
     },
     "execution_count": 9,
     "metadata": {},
     "output_type": "execute_result"
    }
   ],
   "source": [
    "l"
   ]
  },
  {
   "cell_type": "code",
   "execution_count": 10,
   "metadata": {},
   "outputs": [
    {
     "data": {
      "text/plain": [
       "['Z']"
      ]
     },
     "execution_count": 10,
     "metadata": {},
     "output_type": "execute_result"
    }
   ],
   "source": [
    "l2"
   ]
  },
  {
   "cell_type": "code",
   "execution_count": 11,
   "metadata": {},
   "outputs": [
    {
     "data": {
      "text/plain": [
       "['A', 'B', 'C', 'Z']"
      ]
     },
     "execution_count": 11,
     "metadata": {},
     "output_type": "execute_result"
    }
   ],
   "source": [
    "l3"
   ]
  },
  {
   "cell_type": "code",
   "execution_count": 13,
   "metadata": {
    "collapsed": true
   },
   "outputs": [],
   "source": [
    "#remember, cannot append multiple elements on to a list\n",
    "#i.e. l.append('X', 'Y')"
   ]
  },
  {
   "cell_type": "code",
   "execution_count": 16,
   "metadata": {
    "collapsed": true
   },
   "outputs": [],
   "source": [
    "#However, you can add a list into a list. l.append(['X', 'Y'])\n",
    "l.append(['X', 'Y'])"
   ]
  },
  {
   "cell_type": "code",
   "execution_count": 18,
   "metadata": {},
   "outputs": [
    {
     "data": {
      "text/plain": [
       "['Z', ['X', 'Y']]"
      ]
     },
     "execution_count": 18,
     "metadata": {},
     "output_type": "execute_result"
    }
   ],
   "source": [
    "l\n",
    "#Remember this list has 3 elements, 2 strings and a list."
   ]
  },
  {
   "cell_type": "markdown",
   "metadata": {},
   "source": [
    "# Extend"
   ]
  },
  {
   "cell_type": "code",
   "execution_count": 19,
   "metadata": {
    "collapsed": true
   },
   "outputs": [],
   "source": [
    "l.extend(['G', 'H', 'I'])"
   ]
  },
  {
   "cell_type": "code",
   "execution_count": 20,
   "metadata": {},
   "outputs": [
    {
     "data": {
      "text/plain": [
       "['Z', ['X', 'Y'], 'G', 'H', 'I']"
      ]
     },
     "execution_count": 20,
     "metadata": {},
     "output_type": "execute_result"
    }
   ],
   "source": [
    "l"
   ]
  },
  {
   "cell_type": "markdown",
   "metadata": {},
   "source": [
    "# Importing csv with Python and append lines"
   ]
  },
  {
   "cell_type": "code",
   "execution_count": 56,
   "metadata": {
    "collapsed": true
   },
   "outputs": [],
   "source": [
    "group = []\n",
    "with open(r'C:\\DATA\\Python excel.csv') as f:\n",
    "    for line in f:\n",
    "        group.append(line.strip().split(','))\n",
    "# line is a variable and f is the alias so everytime Python finds a line in the variable f we have defined \n",
    "# add in a split function to split it by comma"
   ]
  },
  {
   "cell_type": "code",
   "execution_count": 57,
   "metadata": {},
   "outputs": [
    {
     "data": {
      "text/plain": [
       "[['Ama', 'London', '1'],\n",
       " ['Brooke', 'Machester', '2'],\n",
       " ['Cassie', 'Lisbon', '3'],\n",
       " ['Debbie', 'Madrid', '4'],\n",
       " ['Eddie', 'Paris', '5'],\n",
       " ['Frank', 'Copenhagen', '6'],\n",
       " ['Greg', 'Kumasi', '7'],\n",
       " ['Hannah', 'New York', '8'],\n",
       " ['Izzie', 'Dublin', '9'],\n",
       " ['Julie', 'Split', '10'],\n",
       " ['Karen', 'Budapest', '11'],\n",
       " ['Laura', 'Rome', '12']]"
      ]
     },
     "execution_count": 57,
     "metadata": {},
     "output_type": "execute_result"
    }
   ],
   "source": [
    "group"
   ]
  },
  {
   "cell_type": "code",
   "execution_count": 59,
   "metadata": {},
   "outputs": [
    {
     "data": {
      "text/plain": [
       "['Ama', 'London', '1']"
      ]
     },
     "execution_count": 59,
     "metadata": {},
     "output_type": "execute_result"
    }
   ],
   "source": [
    "group[0]"
   ]
  },
  {
   "cell_type": "code",
   "execution_count": 35,
   "metadata": {},
   "outputs": [
    {
     "data": {
      "text/plain": [
       "'London'"
      ]
     },
     "execution_count": 35,
     "metadata": {},
     "output_type": "execute_result"
    }
   ],
   "source": [
    "#To get back the city you can slice it further\n",
    "group [0] [1]"
   ]
  },
  {
   "cell_type": "code",
   "execution_count": 37,
   "metadata": {},
   "outputs": [
    {
     "data": {
      "text/plain": [
       "'12'"
      ]
     },
     "execution_count": 37,
     "metadata": {},
     "output_type": "execute_result"
    }
   ],
   "source": [
    "# -1 means 'the last one' so to reveal the last element within the lists, just put -1, -1\n",
    "group [-1][-1]"
   ]
  },
  {
   "cell_type": "code",
   "execution_count": 39,
   "metadata": {
    "collapsed": true
   },
   "outputs": [],
   "source": [
    "names = []"
   ]
  },
  {
   "cell_type": "code",
   "execution_count": 58,
   "metadata": {},
   "outputs": [
    {
     "name": "stdout",
     "output_type": "stream",
     "text": [
      "Ama\n",
      "Brooke\n",
      "Cassie\n",
      "Debbie\n",
      "Eddie\n",
      "Frank\n",
      "Greg\n",
      "Hannah\n",
      "Izzie\n",
      "Julie\n",
      "Karen\n",
      "Laura\n"
     ]
    }
   ],
   "source": [
    "for p in group:\n",
    "    print p[0]"
   ]
  },
  {
   "cell_type": "code",
   "execution_count": 63,
   "metadata": {},
   "outputs": [
    {
     "name": "stdout",
     "output_type": "stream",
     "text": [
      "Their name is Ama, they are in London and personid 1\n",
      "Their name is Brooke, they are in Machester and personid 2\n",
      "Their name is Cassie, they are in Lisbon and personid 3\n",
      "Their name is Debbie, they are in Madrid and personid 4\n",
      "Their name is Eddie, they are in Paris and personid 5\n",
      "Their name is Frank, they are in Copenhagen and personid 6\n",
      "Their name is Greg, they are in Kumasi and personid 7\n",
      "Their name is Hannah, they are in New York and personid 8\n",
      "Their name is Izzie, they are in Dublin and personid 9\n",
      "Their name is Julie, they are in Split and personid 10\n",
      "Their name is Karen, they are in Budapest and personid 11\n",
      "Their name is Laura, they are in Rome and personid 12\n"
     ]
    }
   ],
   "source": [
    "# This is the inefficient way of doing for loops\n",
    "for n, c, i in group:\n",
    "    person_description = 'Their name is {n}, they are in {c} and personid {i}'.format(n = n, c = c, i = i)\n",
    "    print person_description"
   ]
  },
  {
   "cell_type": "markdown",
   "metadata": {},
   "source": [
    "# List Comprehension"
   ]
  },
  {
   "cell_type": "code",
   "execution_count": 76,
   "metadata": {},
   "outputs": [
    {
     "data": {
      "text/plain": [
       "['Ama',\n",
       " 'Brooke',\n",
       " 'Cassie',\n",
       " 'Debbie',\n",
       " 'Eddie',\n",
       " 'Frank',\n",
       " 'Greg',\n",
       " 'Hannah',\n",
       " 'Izzie',\n",
       " 'Julie',\n",
       " 'Karen',\n",
       " 'Laura']"
      ]
     },
     "execution_count": 76,
     "metadata": {},
     "output_type": "execute_result"
    }
   ],
   "source": [
    "# I want to see all n in the group list. Th RHS shows what we are looking at, the LHS tells you what to do with it.\n",
    "[n for n, c, i in group]"
   ]
  },
  {
   "cell_type": "code",
   "execution_count": 78,
   "metadata": {},
   "outputs": [
    {
     "name": "stdout",
     "output_type": "stream",
     "text": [
      "['AMA', 'BROOKE', 'CASSIE', 'DEBBIE', 'EDDIE', 'FRANK', 'GREG', 'HANNAH', 'IZZIE', 'JULIE', 'KAREN', 'LAURA']\n"
     ]
    }
   ],
   "source": [
    "names1 = [n.upper() for n, c, i in group]\n",
    "print names1"
   ]
  },
  {
   "cell_type": "code",
   "execution_count": 79,
   "metadata": {
    "collapsed": true
   },
   "outputs": [],
   "source": [
    "# the old way\n",
    "names1 = []\n",
    "for n in group:\n",
    "    names.append(n[0])"
   ]
  },
  {
   "cell_type": "code",
   "execution_count": 89,
   "metadata": {},
   "outputs": [
    {
     "data": {
      "text/plain": [
       "['BROOKE']"
      ]
     },
     "execution_count": 89,
     "metadata": {},
     "output_type": "execute_result"
    }
   ],
   "source": [
    "[l[0].upper() for l in group if l[0].startswith('B')]"
   ]
  },
  {
   "cell_type": "code",
   "execution_count": 85,
   "metadata": {},
   "outputs": [
    {
     "data": {
      "text/plain": [
       "'Ama'"
      ]
     },
     "execution_count": 85,
     "metadata": {},
     "output_type": "execute_result"
    }
   ],
   "source": [
    "l[0]"
   ]
  },
  {
   "cell_type": "markdown",
   "metadata": {},
   "source": [
    "# The wrong way to insert"
   ]
  },
  {
   "cell_type": "code",
   "execution_count": 90,
   "metadata": {
    "collapsed": true
   },
   "outputs": [],
   "source": [
    "group.insert(1, ['Lawrence','Tema', '73' ])\n",
    "#index offset is like a surrogate key"
   ]
  },
  {
   "cell_type": "code",
   "execution_count": 91,
   "metadata": {},
   "outputs": [
    {
     "data": {
      "text/plain": [
       "[['Ama', 'London', '1'],\n",
       " ['Lawrence', 'Tema', '73'],\n",
       " ['Brooke', 'Machester', '2'],\n",
       " ['Cassie', 'Lisbon', '3'],\n",
       " ['Debbie', 'Madrid', '4'],\n",
       " ['Eddie', 'Paris', '5'],\n",
       " ['Frank', 'Copenhagen', '6'],\n",
       " ['Greg', 'Kumasi', '7'],\n",
       " ['Hannah', 'New York', '8'],\n",
       " ['Izzie', 'Dublin', '9'],\n",
       " ['Julie', 'Split', '10'],\n",
       " ['Karen', 'Budapest', '11'],\n",
       " ['Laura', 'Rome', '12']]"
      ]
     },
     "execution_count": 91,
     "metadata": {},
     "output_type": "execute_result"
    }
   ],
   "source": [
    "group"
   ]
  },
  {
   "cell_type": "code",
   "execution_count": 92,
   "metadata": {
    "collapsed": true
   },
   "outputs": [],
   "source": [
    "# FIFO vs LIFO "
   ]
  },
  {
   "cell_type": "markdown",
   "metadata": {},
   "source": [
    "# Deleting rows"
   ]
  },
  {
   "cell_type": "markdown",
   "metadata": {},
   "source": [
    "### pop removes the row and returns it to you, n.pop(index)"
   ]
  },
  {
   "cell_type": "code",
   "execution_count": 95,
   "metadata": {},
   "outputs": [
    {
     "data": {
      "text/plain": [
       "['Eddie', 'Paris', '5']"
      ]
     },
     "execution_count": 95,
     "metadata": {},
     "output_type": "execute_result"
    }
   ],
   "source": [
    "group.pop(4)"
   ]
  },
  {
   "cell_type": "markdown",
   "metadata": {},
   "source": [
    "### remove completely gets rid of it, n.remove(item)"
   ]
  },
  {
   "cell_type": "code",
   "execution_count": 105,
   "metadata": {},
   "outputs": [
    {
     "ename": "ValueError",
     "evalue": "list.remove(x): x not in list",
     "output_type": "error",
     "traceback": [
      "\u001b[1;31m--------------------------------------------------------------------------\u001b[0m",
      "\u001b[1;31mValueError\u001b[0m                               Traceback (most recent call last)",
      "\u001b[1;32m<ipython-input-105-88d827ac0e7d>\u001b[0m in \u001b[0;36m<module>\u001b[1;34m()\u001b[0m\n\u001b[1;32m----> 1\u001b[1;33m \u001b[0mgroup\u001b[0m\u001b[1;33m.\u001b[0m\u001b[0mremove\u001b[0m\u001b[1;33m(\u001b[0m\u001b[1;33m[\u001b[0m\u001b[1;34m'Karen'\u001b[0m\u001b[1;33m,\u001b[0m \u001b[1;34m'Rome'\u001b[0m\u001b[1;33m,\u001b[0m \u001b[1;34m'12'\u001b[0m\u001b[1;33m]\u001b[0m\u001b[1;33m)\u001b[0m\u001b[1;33m\u001b[0m\u001b[0m\n\u001b[0m",
      "\u001b[1;31mValueError\u001b[0m: list.remove(x): x not in list"
     ]
    }
   ],
   "source": [
    "group.remove(['Karen', 'Rome', '12'])"
   ]
  },
  {
   "cell_type": "code",
   "execution_count": 97,
   "metadata": {},
   "outputs": [
    {
     "data": {
      "text/plain": [
       "[['Ama', 'London', '1'],\n",
       " ['Lawrence', 'Tema', '73'],\n",
       " ['Brooke', 'Machester', '2'],\n",
       " ['Cassie', 'Lisbon', '3'],\n",
       " ['Frank', 'Copenhagen', '6'],\n",
       " ['Greg', 'Kumasi', '7'],\n",
       " ['Hannah', 'New York', '8'],\n",
       " ['Izzie', 'Dublin', '9'],\n",
       " ['Julie', 'Split', '10'],\n",
       " ['Karen', 'Budapest', '11'],\n",
       " ['Laura', 'Rome', '12']]"
      ]
     },
     "execution_count": 97,
     "metadata": {},
     "output_type": "execute_result"
    }
   ],
   "source": [
    "group"
   ]
  },
  {
   "cell_type": "code",
   "execution_count": null,
   "metadata": {
    "collapsed": true
   },
   "outputs": [],
   "source": []
  }
 ],
 "metadata": {
  "kernelspec": {
   "display_name": "Python 3",
   "language": "python",
   "name": "python3"
  },
  "language_info": {
   "codemirror_mode": {
    "name": "ipython",
    "version": 3
   },
   "file_extension": ".py",
   "mimetype": "text/x-python",
   "name": "python",
   "nbconvert_exporter": "python",
   "pygments_lexer": "ipython3",
   "version": "3.6.3"
  }
 },
 "nbformat": 4,
 "nbformat_minor": 2
}
